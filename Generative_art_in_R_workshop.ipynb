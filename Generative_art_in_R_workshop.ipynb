{
  "cells": [
    {
      "cell_type": "markdown",
      "metadata": {
        "id": "b6qA-zt_9VNK"
      },
      "source": [
        "# Your friendly intro to creating generative art with R "
      ]
    },
    {
      "cell_type": "markdown",
      "source": [
        "# Setting up your R environment\n",
        "\n",
        "Before starting, please make sure you are in an \"R runtime\". To check this go to Runtime -> Change runtime type. A little box with details about your runtime pops up. Runtime type should say \"R\". Don't change anything, just close the dialogue by clicking 'cancel'.\n",
        "\n",
        "You should run the cells below (press shift and enter or click the litte play-button next to the cell) during the intro talk as this will take *a while* to execute. You should execute the cells in order (from top down) to avoid issues. Do this until you hit the text \"End of set-up\"."
      ],
      "metadata": {
        "id": "a7Zx6cibLlvZ"
      }
    },
    {
      "cell_type": "code",
      "execution_count": null,
      "metadata": {
        "id": "Oal7Kknd9UAA"
      },
      "outputs": [],
      "source": [
        "system(\"apt-get -y update\")\n",
        "# R packages have mysterious linux library dependencies and the error messages on colab are uninformative, \n",
        "# so let us install pretty much anything we could possibly want or need\n",
        "system(\"apt-get install -y r-base r-base-dev\")\n",
        "system(\"apt-get install -y cargo cmake default-jdk fonts-roboto htop libcairo2-dev libclang-dev libcurl4-openssl-dev libfontconfig1-dev libfreetype6-dev libfribidi-dev libgdal-dev libgeos-dev libharfbuzz-dev libjpeg-dev libmagick++-dev libproj-dev libpng-dev libpq-dev libsodium-dev libssl-dev libtiff5-dev libudunits2-dev libx11-dev libxml2-dev openjdk-8-jdk openjdk-8-jre pandoc ttf-mscorefonts-installer xorg-dev\")\n"
      ]
    },
    {
      "cell_type": "markdown",
      "source": [
        "Next, we install the packages we are using today and their dependencies. Dependencies are other packages that our \"main\" packages rely on to work properly. This section can take up to 45 mins to run! We'll talk about what packages are and why we need them soon."
      ],
      "metadata": {
        "id": "4y3ZkK7hbVMO"
      }
    },
    {
      "cell_type": "code",
      "source": [
        "install.packages(\"Rcpp\")"
      ],
      "metadata": {
        "id": "nef6YcakbAU4"
      },
      "execution_count": null,
      "outputs": []
    },
    {
      "cell_type": "code",
      "source": [
        "install.packages(\"devtools\")"
      ],
      "metadata": {
        "id": "3BCvun8rbEdA"
      },
      "execution_count": null,
      "outputs": []
    },
    {
      "cell_type": "code",
      "source": [
        "install.packages(\"mapproj\")"
      ],
      "metadata": {
        "id": "1OA14CSRbG-Q"
      },
      "execution_count": null,
      "outputs": []
    },
    {
      "cell_type": "code",
      "source": [
        "install.packages(\"tidyverse\")"
      ],
      "metadata": {
        "id": "XozCPdnubIwl"
      },
      "execution_count": null,
      "outputs": []
    },
    {
      "cell_type": "code",
      "source": [
        "install.packages(\"ggforce\")"
      ],
      "metadata": {
        "id": "F_E8Q5_dbJvC"
      },
      "execution_count": null,
      "outputs": []
    },
    {
      "cell_type": "code",
      "source": [
        "install.packages(\"aRtsy\")"
      ],
      "metadata": {
        "id": "dx4bagpAbJYE"
      },
      "execution_count": null,
      "outputs": []
    },
    {
      "cell_type": "code",
      "source": [
        "devtools::install_github(\"marcusvolz/mathart\")"
      ],
      "metadata": {
        "id": "t3brlnbbV4FR"
      },
      "execution_count": null,
      "outputs": []
    },
    {
      "cell_type": "code",
      "execution_count": null,
      "metadata": {
        "id": "A03uF9xp_HbF"
      },
      "outputs": [],
      "source": [
        "library(repr)\n",
        "library(ggplot2)\n",
        "library(dplyr)\n",
        "library(aRtsy)\n",
        "library(stringr)"
      ]
    },
    {
      "cell_type": "code",
      "source": [
        "# in case you run into issues with installations, code mentors may want to use this to check what is happening\n",
        "# will output information about the current R session and packages\n",
        "# sessionInfo()"
      ],
      "metadata": {
        "id": "43fjUqHEgBIy"
      },
      "execution_count": null,
      "outputs": []
    },
    {
      "cell_type": "markdown",
      "source": [
        "## End of set-up! \n"
      ],
      "metadata": {
        "id": "C_vjg9SzMVS7"
      }
    },
    {
      "cell_type": "markdown",
      "source": [
        "# Functions and arguments\n",
        "\n",
        "We'll start our plotting journey by working on a function that creates watercolor-like patterns. This function is part of a package called aRtsy. What the function does is that it takes some polygons (squares, triangles etc) and warps them a little bit and repeats this a number of times so that it looks like the polygons get a watercolor-y soft edge.\n",
        "\n",
        "Packages often have documentation related to the functionality that is available. This function has documentation [here](https://koenderks.github.io/aRtsy/reference/canvas_watercolors.html). "
      ],
      "metadata": {
        "id": "v8Qdwb-RRsCr"
      }
    },
    {
      "cell_type": "code",
      "source": [
        "# the main function is called canvas_watercolors()\n",
        "# it needs an argument called colors that gives it a list of colors that will be used in the plot\n",
        "# we get the list of colors from another function, called \"colorPalette\"\n",
        "# you will get a chance to try out different palettes soon!\n",
        "canvas_watercolors(colors = colorPalette(\"sky\"))"
      ],
      "metadata": {
        "id": "SF0WG3UkT5qm"
      },
      "execution_count": null,
      "outputs": []
    },
    {
      "cell_type": "markdown",
      "source": [
        "Try to change the plot to use another color palette (you can find a list of available palettes [here](https://koenderks.github.io/aRtsy/index.html#color-palettes))."
      ],
      "metadata": {
        "id": "SZvA6xXoZ_HN"
      }
    },
    {
      "cell_type": "code",
      "source": [
        "# notice how the name of the palette has quotes (both \"\" and '' work) around it? \n",
        "# We'll talk more about it soon! \n",
        "# But for now, just make sure you give your palette name with \"\" around it\n",
        "canvas_watercolors(colors = colorPalette(\"vrolik1\"))"
      ],
      "metadata": {
        "id": "77Ayp7T4Z-HD"
      },
      "execution_count": null,
      "outputs": []
    },
    {
      "cell_type": "code",
      "source": [
        "# you can control the number of blobs that appear by asking the function \n",
        "# colorPalette() for a specific number of colors.\n",
        "# Notice that the number of colors should not have quotes around it!\n",
        "canvas_watercolors(colors = colorPalette(\"vrolik1\", 3))"
      ],
      "metadata": {
        "id": "6ps9b0dA-7Co"
      },
      "execution_count": null,
      "outputs": []
    },
    {
      "cell_type": "markdown",
      "source": [
        "This type of plot has a parameter called \"layers\". Try out what happens when you change the value of this parameter."
      ],
      "metadata": {
        "id": "ZpVVzk1Aabt_"
      }
    },
    {
      "cell_type": "code",
      "source": [
        "canvas_watercolors(colors = colorPalette(\"vrolik1\", 3), layers=15)"
      ],
      "metadata": {
        "id": "OXwRerYJap-g"
      },
      "execution_count": null,
      "outputs": []
    },
    {
      "cell_type": "markdown",
      "source": [
        "This function also has a parameter \"depth\" that is by default set to 2. This parameter controls the amount of warping and smudging that happens on the edges of your polygons. You can try to change this parameter too, but if you select a very high number (above 6 or so) it will take much longer to run (how long will depend on the number you chose). "
      ],
      "metadata": {
        "id": "KopzxJj6AfzW"
      }
    },
    {
      "cell_type": "code",
      "source": [
        "canvas_watercolors(colors = colorPalette(\"vrolik1\", 3), layers=15, depth=5)"
      ],
      "metadata": {
        "id": "7SXW1f6w__h9"
      },
      "execution_count": null,
      "outputs": []
    },
    {
      "cell_type": "code",
      "source": [
        "# ggave() is a function that saves the plot you most recently generated to your google colab runtime\n",
        "# the argument it takes is a filename, including file ending, that you want to use to save your creation\n",
        "# remember to download your plots from colab before you leave this workshop! otherwise they may disappear :(\n",
        "ggsave('pretty_plot_1.png')"
      ],
      "metadata": {
        "id": "o2J0btJxaaEp"
      },
      "execution_count": null,
      "outputs": []
    },
    {
      "cell_type": "markdown",
      "source": [
        "Let's hop back to theory and talk a little bit about randomness, functions, variables and plotting. This will help us a lot doing the next tasks type of art! \n",
        "\n",
        "# Let's work with variables\n"
      ],
      "metadata": {
        "id": "Ve9pUAac30rX"
      }
    },
    {
      "cell_type": "code",
      "source": [
        "# we assign variable using the assign operator <- (also = can be used, but <- is what people typically use with R)\n",
        "variable1 <- 1\n",
        "# we can see what value the variable has assigned to it if we print it\n",
        "print(variable1)"
      ],
      "metadata": {
        "id": "GTwgEzPXM9sE"
      },
      "execution_count": null,
      "outputs": []
    },
    {
      "cell_type": "code",
      "source": [
        "# if instead we say \n",
        "print(\"variable1\")\n",
        "# we get a different response. Why?"
      ],
      "metadata": {
        "id": "Ovun0varNYYT"
      },
      "execution_count": null,
      "outputs": []
    },
    {
      "cell_type": "code",
      "source": [
        "# we can also repeat the process\n",
        "variable1 <- 3\n",
        "# what value do we think the variable now has assigned to it? 1, 3, or both?"
      ],
      "metadata": {
        "id": "RU9Ydk92NfyI"
      },
      "execution_count": null,
      "outputs": []
    },
    {
      "cell_type": "code",
      "source": [
        "# let's test to find out!\n",
        "print(variable1)"
      ],
      "metadata": {
        "id": "Wqp8N9QiNrSY"
      },
      "execution_count": null,
      "outputs": []
    },
    {
      "cell_type": "code",
      "source": [
        "# what happens here? \n",
        "print(variabel1)"
      ],
      "metadata": {
        "id": "OwTB4xN4ON6j"
      },
      "execution_count": null,
      "outputs": []
    },
    {
      "cell_type": "markdown",
      "source": [
        "# Let's draw some pretty pretty maths equations\n",
        "\n",
        "In this section, we'll work with a function called \"canvas_function()\". Here, the function part of the name relates to mathematical functions. You can see documentation for canvas_function() [here](https://koenderks.github.io/aRtsy/reference/canvas_function.html)."
      ],
      "metadata": {
        "id": "t8dL8zagrReo"
      }
    },
    {
      "cell_type": "code",
      "source": [
        "# we're creating a variable to hold our random seed and picking a number at random for it\n",
        "my_seed <- round(runif(1, 0, 10000))\n",
        "# set the random seed (needs to be done in each cell you want to use it!)\n",
        "set.seed(my_seed)\n",
        "# print the seed in case we really loved our plot want to continue to work with it\n",
        "print(my_seed)\n",
        "\n",
        "canvas_function(colors = colorPalette(\"tuscany1\"))\n",
        "ggsave(str_c('canvas-function-',my_seed,'.png'))"
      ],
      "metadata": {
        "id": "NeV_TljnFD_X"
      },
      "execution_count": null,
      "outputs": []
    },
    {
      "cell_type": "code",
      "source": [
        "# let's first find a color palette or color we like better than the default\n",
        "my_seed <- round(runif(1, 0, 10000))\n",
        "set.seed(my_seed)\n",
        "print(my_seed)\n",
        "\n",
        "canvas_function(colors = \"#242254\")\n",
        "ggsave(str_c('canvas-function-',my_seed,'.png'))"
      ],
      "metadata": {
        "id": "JHBosMFvXFNq"
      },
      "execution_count": null,
      "outputs": []
    },
    {
      "cell_type": "markdown",
      "source": [
        "The function builds on mathematical equations being plotted. You can either take a randomly assigned equation (as we did above) or you can define your own for more control over the end result. It is a good idea to have a component that is random (runif() is a good function for that) in the formula as well as sin() or cos() function as they tend to be pretty."
      ],
      "metadata": {
        "id": "DCujqIcEeme8"
      }
    },
    {
      "cell_type": "code",
      "source": [
        "my_seed <- round(runif(1, 0, 10000))\n",
        "set.seed(my_seed)\n",
        "print(my_seed)\n",
        "\n",
        "# here we define a starting formula that has a bit of randomness and sine and cosine\n",
        "# but not much else funky\n",
        "simple_formula <- list(\n",
        "  x = quote(runif(1, -1, 1) * x_i - sin(y_i)),\n",
        "  y = quote(runif(1, -1, 1) * y_i - cos(x_i))\n",
        ")\n"
      ],
      "metadata": {
        "id": "5WhfMT63E0DF"
      },
      "execution_count": null,
      "outputs": []
    },
    {
      "cell_type": "code",
      "source": [
        "# plot our own formula with carteesian coordinates (polar=FALSE)\n",
        "# and our own defined color(s)\n",
        "# if you want to experiment with iterations of this, \n",
        "# run both the previous cell and this one to get new random seed\n",
        "# (and thereby new multipliers in your formula)\n",
        "set.seed(my_seed)\n",
        "canvas_function(colors = \"red\", formula=simple_formula, polar = FALSE)\n",
        "ggsave(str_c('simple-function-carteesian-coordinates-',my_seed,'.png'))"
      ],
      "metadata": {
        "id": "8YUDl1YlrQcI"
      },
      "execution_count": null,
      "outputs": []
    },
    {
      "cell_type": "code",
      "source": [
        "# let us move the same plot to polar coordinates\n",
        "# it is the same as before since we're using same random seed throughout\n",
        "set.seed(my_seed)\n",
        "canvas_function(colors = \"red\", formula=simple_formula, polar = TRUE)\n",
        "ggsave(str_c('simple-function-polar-coordinates-',my_seed,'.png'))"
      ],
      "metadata": {
        "id": "4NTGjKCHaPy1"
      },
      "execution_count": null,
      "outputs": []
    },
    {
      "cell_type": "code",
      "source": [
        "# let us make the formula a little bit more complex - now we have exponent (^) \n",
        "# in addition to randomness and sine + cosine\n",
        "my_seed <- round(runif(1, 0, 10000))\n",
        "set.seed(my_seed)\n",
        "print(my_seed)\n",
        "\n",
        "more_complex_formula <- list(\n",
        "  x = quote(runif(1, -1, 1) * x_i^2 - sin(y_i^2)),\n",
        "  y = quote(runif(1, -1, 1) * y_i^3 - cos(x_i^2))\n",
        ")\n"
      ],
      "metadata": {
        "id": "YQphIV0hahiD"
      },
      "execution_count": null,
      "outputs": []
    },
    {
      "cell_type": "code",
      "source": [
        "# plot something with more complex formula - decide for yourself if you want \n",
        "# polar coordinates or carteesian coordinates\n",
        "set.seed(my_seed)\n",
        "canvas_function(colors = \"red\", formula=more_complex_formula, polar = TRUE)\n",
        "ggsave(str_c('complex-function-',my_seed,'.png'))"
      ],
      "metadata": {
        "id": "9K2BBvReaojh"
      },
      "execution_count": null,
      "outputs": []
    },
    {
      "cell_type": "code",
      "source": [
        "my_seed <- round(runif(1, 0, 10000))\n",
        "set.seed(my_seed)\n",
        "print(my_seed)\n",
        "\n",
        "# if you feel up for it,\n",
        "# now is your time to go to town and see if you can come up with a formula that\n",
        "# makes something pretty!\n",
        "my_custom_formula <- list(\n",
        "  x = quote(runif(1, -1, 1) * x_i^2 - sin(y_i^2) + runif(1,-1,1) * cos(x_i) ),\n",
        "  y = quote(runif(1, -1, 1) * y_i^3 - cos(x_i^2) + runif(1,-1,1) * sin(y_i) )\n",
        ")\n",
        "\n",
        "# pick polar coordinates TRUE or FALSE depending on which one you like better!\n",
        "canvas_function(colors = \"red\", formula=my_custom_formula, polar = FALSE)\n",
        "ggsave(str_c('custom-function-',my_seed,'.png'))"
      ],
      "metadata": {
        "id": "bz9TYBM4bC1o"
      },
      "execution_count": null,
      "outputs": []
    },
    {
      "cell_type": "markdown",
      "source": [
        "Now it's time to keep experimenting! Pick another plot type from the [aRtsy package homesite](https://koenderks.github.io/aRtsy/index.html) and try to make the corresponding plot. Try first with the same exact settings that are listed on the homepage and then start making it your own with changing parameters etc. "
      ],
      "metadata": {
        "id": "cp4ZjTxzcqfu"
      }
    },
    {
      "cell_type": "code",
      "source": [
        "# you can experiment in this cell!\n",
        "# first we explicitly set the random seed\n",
        "my_seed <- round(runif(1, 0, 10000))\n",
        "set.seed(my_seed)\n",
        "\n",
        "#\n",
        "# your plotting code goes here\n",
        "#\n",
        "\n",
        "# save the output together with the seed\n",
        "ggsave(str_c('my-awesome-plot-',my_seed,'.png'))"
      ],
      "metadata": {
        "id": "PxSaw6uIc7eE"
      },
      "execution_count": null,
      "outputs": []
    },
    {
      "cell_type": "markdown",
      "source": [
        "You can also take a look at the examples in the advanced module - they may contain a bit more code but if you run the cells in order, and change one thing at a time you will do just fine.\n",
        "\n",
        "Remember to share your end result with the rest of us!"
      ],
      "metadata": {
        "id": "Dv9aLMeJmhxu"
      }
    },
    {
      "cell_type": "markdown",
      "source": [
        "# Advanced module \n",
        "If you already have some coding experience, the exercises above may seem a little simplistic as we use them to get familiar with concepts such as functions, arguments and axes. You're welcome to follow along the workshop as is, but if you're keen to go faster and try out more things, you can also try your hand at exercises below. \n",
        "\n",
        "## Note about colab\n",
        "Connecting to google drive from colab running in R-runtime seems much more difficult than one would think, so I recommend saving your notebook via github instead (or downloading everything to your local computer at the end of the workshop).\n",
        "\n",
        "## R syntactic quirks\n",
        "Here's a few quirks about R syntax, that may not be obvious and that may help you along the way. \n",
        "1. Indexing starts from 1, not 0\n",
        "2. Indentation doesn't matter for code execution.\n",
        "3. Both `<-` and `=` can be used to assign values to variables. I will be mostly using `<-` as it is the R \"canonical way\" and may be more understandable for beginners but `=` works just as well. For assigning values within a function call (such as `color='black'`), use `=`.\n",
        "4. The 'magrittr pipe'` %>%` (part of tidyverse family of packages; here imported via the package dplyr) is used to combine multiple commands to a sequence. It works similarly to a | pipe on the command line or '.' in pandas: it takes the output of the left hand side of the pipe and feeds it as the first parameter to the function on the right hand side of the pipe.\n",
        "5. Many of the plotting libraries used for generating art build on something called \"Grammar of Graphics\" (package ggplot2). Here, the different \"layers\" (e.g. type of plot, data to be mapped, text overlaid on plot) are combined via a plus sign (`+`). [Here is a short intro to grammar of graphics](http://homepage.stat.uiowa.edu/~luke/classes/STAT4580-2022/ggplot.html) and [here is a much longer one](https://ggplot2-book.org/index.html) - or you could just try to google examples and test those out.\n",
        "6. Vectors are created with the function `c()` (c stands for combine). Vectors can contain strings or numbers, but if you try to create a vector with both strings and numbers, the numbers will get converted to strings.\n",
        "7. Missing values are represented with NA (similar to NaN in Python).\n"
      ],
      "metadata": {
        "id": "2qgZ6XaiE9UF"
      }
    },
    {
      "cell_type": "markdown",
      "source": [
        "# aRtsy\n",
        "\n",
        "One fantastic package for creating multiple different types of generative art is called aRtsy. In this task, you will create one or more pieces of art using the aRtsy package.\n",
        "1. Check out [the aRtsy package website](https://koenderks.github.io/aRtsy/)\n",
        "2. Pick out one of the art functions that appeals to you visually\n",
        "3. Play around with the parameters to the function (+ test different random seeds) to create something you think looks great\n",
        "4. Save your end result\n",
        "5. Please share your creation with others in the event Slack! \n",
        "\n",
        "Tip: [The color palettes natively available at aRtsy](https://koenderks.github.io/aRtsy/#color-palettes) are listed at the bottom of the aRtsy website"
      ],
      "metadata": {
        "id": "Xj-28id1HfM6"
      }
    },
    {
      "cell_type": "code",
      "source": [
        "# I like the look of the Mondrian-esque canvas_segments, so I'll do an example using that\n",
        "# You should pick whichever one you like best\n",
        "# We'll start with the defaults\n",
        "canvas_segments(colors=colorPalette(\"dark1\"))\n",
        "\n",
        "# you can save your plot with ggsave\n",
        "ggsave('pretending-to-be-mondrian.png')"
      ],
      "metadata": {
        "id": "4g5FJTKsCkIT"
      },
      "execution_count": null,
      "outputs": []
    },
    {
      "cell_type": "code",
      "source": [
        "# Let's take a look at the documentation https://koenderks.github.io/aRtsy/reference/canvas_segments.html \n",
        "# to see which other parameters we can edit: \n",
        "canvas_segments(colors = colorPalette(\"dark1\"), background = \"#fafafa\", n = 250,\n",
        "                p = 0.5, H = 0.1, size = 0.2)\n",
        "                \n",
        "ggsave('pretending-to-be-mondrian_2.png')"
      ],
      "metadata": {
        "id": "GVXnebAnCwp2"
      },
      "execution_count": null,
      "outputs": []
    },
    {
      "cell_type": "code",
      "source": [
        "# If you want to be able to work on the same art piece for longer, you can track your random seed\n",
        "# by explicitly assigning it and printing it out \n",
        "# (so if you happen across a work you particularly love, you can write down the seed and keep working on it)\n",
        "my_seed <- round(runif(1, 0, 10000))\n",
        "set.seed(my_seed)\n",
        "print(my_seed)\n",
        "canvas_segments(colors = colorPalette(\"dark1\"), background = \"#fafafa\", n = 250,\n",
        "                p = 0.5, H = 0.1, size = 0.2)\n",
        "# now let's make the plot name include the random seed\n",
        "# now the seed number gets saved \n",
        "# str_c is a function that concatenates strings together\n",
        "ggsave(str_c('pretending-to-be-mondrian-',my_seed,'.png'))"
      ],
      "metadata": {
        "id": "Ywuaf6-aDelr"
      },
      "execution_count": null,
      "outputs": []
    },
    {
      "cell_type": "code",
      "source": [
        "# Note that you need to set the seed separately in each cell\n",
        "my_seed <- round(runif(1, 0, 10000))\n",
        "set.seed(my_seed)\n",
        "print(my_seed)\n",
        "\n",
        "# Now play around with the parameters until you end up with something you like visually. \n",
        "canvas_segments(colors=colorPalette('tuscany1'), background = \"#fafafa\", n = 200,\n",
        "                p = 0.6, H = 0.15, size = 3)\n",
        "\n",
        "ggsave(str_c('pretending-to-be-mondrian-',my_seed,'.png'))"
      ],
      "metadata": {
        "id": "vgiQ2ij4Anu-"
      },
      "execution_count": null,
      "outputs": []
    },
    {
      "cell_type": "markdown",
      "source": [
        "# Mathart\n",
        "Another fantastic pakcage for generative art focusing on mathematic phenomena is a package called Mathart.\n",
        "\n",
        "1. Check out the [mathart github repo](https://github.com/marcusvolz/mathart\n",
        ")\n",
        "2. Pick out one of the example images that appeals to you visually\n",
        "3. Tweak the parameters to test how they impact the end result. \n",
        "Tip: Note that you may have to do smaller changes to parameter values here than you did in aRtsy due to the complex matbhematical formulae involved. I recommend starting with the default parameters and, once you see how the plot looks with those, trying to tweak the values a little bit, one at a time.\n",
        "4. Save your end result\n",
        "5. Please share your creation with others in the event Slack! \n",
        "\n",
        "Tip: here, you may want to specify a particular color for the output. Mathart itself does not have built-in palettes but it uses the ggplot2 package which knows the following [color name definitions](http://sape.inf.usi.ch/quick-reference/ggplot2/colour). You can also define color by its HEX code or RGB value [(see e.g. here for some examples)](https://bookdown.org/hneth/ds4psy/D-5-apx-colors-define-use-custom.html)"
      ],
      "metadata": {
        "id": "VZeke6HmJDcv"
      }
    },
    {
      "cell_type": "code",
      "source": [
        "library(mathart)\n",
        "library(ggforce)\n",
        "library(Rcpp)\n",
        "library(tidyverse)"
      ],
      "metadata": {
        "id": "m88VM3rrB1FN"
      },
      "execution_count": null,
      "outputs": []
    },
    {
      "cell_type": "code",
      "source": [
        "# I'm fascinated with the plot displaying Lissajous curves as \n",
        "# k nearest neighbors\n",
        "# (more info at https://en.wikipedia.org/wiki/Lissajous_curve and\n",
        "# https://en.wikipedia.org/wiki/K-nearest_neighbors_algorithm) \n",
        "# so I'll work an example using that. \n",
        "# You should pick the plot that appeals to you! \n",
        "# (but don't be surprised if some of the plots take several minutes to run, \n",
        "# some of this stuff is very computationally heavy and cannot really \n",
        "# utilise the GPU available at colab)\n",
        "\n",
        "# First, I copy the plot code exactly as it is on the github page\n",
        "set.seed(2)\n",
        "# here we create a dataframe to with all the data to be plotted\n",
        "df <- lissajous(a = runif(1, 0, 2), b = runif(1, 0, 2), A = runif(1, 0, 2), B = runif(1, 0, 2), d = 200) %>%\n",
        "  sample_n(1001) %>%\n",
        "  k_nearest_neighbour_graph(40)\n",
        "\n",
        "# a ggplot plot starts with a call to ggplot() and is defined by a number of \n",
        "# layers connected with + \n",
        "# these layers define what should be plotted, how and with what parameters\n",
        "# the plot object can be assigned into a variable just like anything else\n",
        "p <- ggplot() +\n",
        "  geom_segment(aes(x, y, xend = xend, yend = yend), df, linewidth = 0.03) +\n",
        "  coord_equal() +\n",
        "  theme_blankcanvas(margin_cm = 0)\n",
        "\n",
        "ggsave(\"knn_lissajous_002.png\", p, width = 25, height = 25, units = \"cm\")"
      ],
      "metadata": {
        "id": "wEoWast1EkMb"
      },
      "execution_count": null,
      "outputs": []
    },
    {
      "cell_type": "code",
      "source": [
        "# that saved the plot but didn't show it :( \n",
        "# to see the plot I add a call to the plot variable p\n",
        "\n",
        "p\n"
      ],
      "metadata": {
        "id": "BF-g8ILIH1N0"
      },
      "execution_count": null,
      "outputs": []
    },
    {
      "cell_type": "code",
      "source": [
        "# I want to see how the curves change when we change the random seed\n",
        "# so I edit that\n",
        "my_seed <- round(runif(1, 0, 10000))\n",
        "set.seed(my_seed)\n",
        "\n",
        "df <- lissajous(a = runif(1, 0, 2), b = runif(1, 0, 2), A = runif(1, 0, 2), B = runif(1, 0, 2), d = 200) %>%\n",
        "  sample_n(1001) %>%\n",
        "  k_nearest_neighbour_graph(40)\n",
        "\n",
        "p <- ggplot() +\n",
        "  geom_segment(aes(x, y, xend = xend, yend = yend), df, linewidth = 0.03) +\n",
        "  coord_equal() +\n",
        "  theme_blankcanvas(margin_cm = 0)\n",
        "\n",
        "p\n",
        "\n",
        "# now the seed number gets saved \n",
        "# str_c is a function that concatenates strings together\n",
        "ggsave(str_c(\"knn_lissajous_\", my_seed, \".png\"), p, width = 25, height = 25, units = \"cm\")"
      ],
      "metadata": {
        "id": "oASnUZJJIoxz"
      },
      "execution_count": null,
      "outputs": []
    },
    {
      "cell_type": "code",
      "source": [
        "# Now it's time to start playing around with arguments!\n",
        "# first up, changing colors\n",
        "my_seed <- round(runif(1, 0, 10000))\n",
        "set.seed(my_seed)\n",
        "\n",
        "df <- lissajous(a = runif(1, 0, 2), b = runif(1, 0, 2), A = runif(1, 0, 2), B = runif(1, 0, 2), d = 200) %>%\n",
        "  sample_n(1001) %>%\n",
        "  k_nearest_neighbour_graph(40)\n",
        "\n",
        "p <- ggplot() +\n",
        "  # on this line, we can add an argument \"color\" with the color name or code we want the lines to be drawn in\n",
        "  geom_segment(aes(x, y, xend = xend, yend = yend), df, size = 0.03, color=\"#242254\") +\n",
        "  coord_equal() +\n",
        "  theme_blankcanvas(margin_cm = 0)+\n",
        "  # this is how we can add a colored background to our work\n",
        "  theme(plot.background = element_rect(fill=\"#92a4d7\"))\n",
        "\n",
        "p\n",
        "\n",
        "ggsave(str_c(\"knn_lissajous_\", my_seed, \".png\"), p, width = 25, height = 25, units = \"cm\")"
      ],
      "metadata": {
        "id": "6OHvrq6-JSWN"
      },
      "execution_count": null,
      "outputs": []
    },
    {
      "cell_type": "code",
      "source": [
        "# Another cool trick that sometimes works is changing the axis from linear to polar coordinates\n",
        "my_seed <- round(runif(1, 0, 10000))\n",
        "set.seed(my_seed)\n",
        "\n",
        "df <- lissajous(a = runif(1, 0, 2), b = runif(1, 0, 2), A = runif(1, 0, 2), B = runif(1, 0, 2), d = 200) %>%\n",
        "  sample_n(1001) %>%\n",
        "  k_nearest_neighbour_graph(40)\n",
        "\n",
        "p <- ggplot() +\n",
        "  geom_segment(aes(x, y, xend = xend, yend = yend), df, size = 0.03, color=\"#242254\") +\n",
        "  # here, we can replace coord_equal\n",
        "  # coord_equal() +\n",
        "  # with coord_polar() to use polar coordinate system\n",
        "  coord_polar() +\n",
        "  theme_blankcanvas(margin_cm = 0)+ \n",
        "  theme(plot.background = element_rect(fill=\"#92a4d7\"))\n",
        "\n",
        "p\n",
        "\n",
        "ggsave(str_c(\"knn_lissajous_\", my_seed, \".png\"), p, width = 25, height = 25, units = \"cm\")"
      ],
      "metadata": {
        "id": "NZ8KLQIULHmN"
      },
      "execution_count": null,
      "outputs": []
    },
    {
      "cell_type": "markdown",
      "source": [
        ":Some additional ideas on what you might want to try changing: line size (size-argument), linetype ([a quick guide here](http://sape.inf.usi.ch/quick-reference/ggplot2/linetype)), opacity (argument alpha), adding title to your plot ([quick intro here](http://www.cookbook-r.com/Graphs/Titles_(ggplot2))). \n",
        "\n",
        "Experiment as long & with as many different plot types as you feel like! Don't forget to share your favorite plots on slack - we'd all love to see them. If you got curious about the inner workings of these functions, there's a list of extra resources at the end of this document.\n"
      ],
      "metadata": {
        "id": "pUSnrauKMeld"
      }
    },
    {
      "cell_type": "markdown",
      "source": [
        "# Additional resources\n",
        "Here's a number of tutorials and additional resources where you can find more information about generative art using R. This list is by no means exhaustive and if this workshop was your first encounter with coding, some of them may be a bit tricky to follow but many of them are very beginner friendly. If you know of good resources that aren't mentioned here, please share them on Slack!\n",
        "\n",
        "## Resources for learning R\n",
        "- [Data science in R, a gentle introduction](https://bookdown.org/jgscott/DSGI/)\n",
        "- [R for the rest of us](https://rfortherestofus.com/courses/getting-started/)\n",
        "- [The big book of R, especially the New to R? section](https://www.bigbookofr.com/index.html)\n",
        "- [R for data science (free ebook)](https://r4ds.had.co.nz/)\n",
        "- [YaRrr! The pirate's guide to R](https://bookdown.org/ndphillips/YaRrr/)\n",
        "- [Exploratory data analysis with R](https://bookdown.org/rdpeng/exdata/)\n",
        "- [Data Visualisation in R (course materials)](https://data-vis-2021.djnavarro.net/materials/)\n",
        "\n",
        "\n",
        "## Resources for generative art\n",
        "- [materials from Danielle Navarro's \"ART FROM CODE\" workshop](https://art-from-code.netlify.app/)\n",
        "- [Danielle Navarro's list of generative art resources](https://blog.djnavarro.net/posts/2021-10-19_rtistry-posts/)\n",
        "- [materials from Ijeamaka Anyene's talk on generative art](https://github.com/Ijeamakaanyene/anatomy_of_generative_art)\n",
        "- [a brief introduction to couple of different packages for generative art](https://towardsdatascience.com/getting-started-with-generative-art-in-r-3bc50067d34b)\n",
        "\n",
        "## Inspiration and packages for generative art\n",
        "- [nrennie/aRt](https://nrennie.rbind.io/portfolio/rtistry/)\n",
        "- [ambient](https://ambient.data-imaginist.com/)\n",
        "- [Pierre Casadebaigs repository with art](https://github.com/picasa/generative_examples)\n",
        "- [Mystery curves](https://georgemsavva.github.io/creativecoding/posts/mystery/)\n",
        "- [Thomas Lin Pedersen art](https://www.data-imaginist.com/art)\n",
        "- [Danielle Navarro art](https://art.djnavarro.net/)\n",
        "- [Marcus Volz art](https://marcusvolz.com/#generative-art)\n",
        "- [Jacquie Tran art](https://art.jacquietran.com/)\n"
      ],
      "metadata": {
        "id": "RDynq49jki46"
      }
    },
    {
      "cell_type": "code",
      "source": [],
      "metadata": {
        "id": "K1r__e_xa3_p"
      },
      "execution_count": null,
      "outputs": []
    }
  ],
  "metadata": {
    "colab": {
      "provenance": [],
      "gpuType": "T4"
    },
    "gpuClass": "standard",
    "kernelspec": {
      "display_name": "R",
      "name": "ir"
    },
    "language_info": {
      "name": "R"
    }
  },
  "nbformat": 4,
  "nbformat_minor": 0
}